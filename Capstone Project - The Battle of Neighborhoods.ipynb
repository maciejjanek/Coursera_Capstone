{
    "nbformat_minor": 1, 
    "cells": [
        {
            "source": "# Introduction", 
            "cell_type": "markdown", 
            "metadata": {
                "collapsed": true
            }
        }, 
        {
            "source": "Chicago is the most populous city in Illinois, as well as the third most populous city in the United States. With an estimated population of 2,705,994 (2018), it is the most populous city in the Midwest.\nChicago also has a high concentration of post-baccalaureate institutions, graduate schools, seminaries, and theological schools.\nThe Chicago Public Library system operates 79 public libraries, including the central library, two regional libraries, and numerous branches distributed throughout the city. \nChicago\u2019s independent bookstores are the heart and soul of its vibrant literary community. Across the city, these booksellers host everything from open mic nights and book groups to readings from well-known and newly discovered authors. Many are also committed to giving back to their local communities.\n", 
            "cell_type": "markdown", 
            "metadata": {}
        }, 
        {
            "source": "## Background\n", 
            "cell_type": "markdown", 
            "metadata": {}
        }, 
        {
            "source": "Selecting the right location for a business is one of the first and very important decisions in running a business. Starting a new business in a metropolitan city such as Chicago can be challenging. Chicago has more than 200 neighborhoods with various places that attract tourists and people to visit. Neighborhoods of Chicago are different in terms of different factors that can directly affect the success chance of business. It is important to evaluate different neighborhoods based on the factors that are important for running a successful business such as the number of competitors and the potential demand in that neighborhood.", 
            "cell_type": "markdown", 
            "metadata": {}
        }, 
        {
            "source": "## Business problem", 
            "cell_type": "markdown", 
            "metadata": {}
        }, 
        {
            "source": "In this project, I want to help my client to find the best neighborhood in Chicago to open a bookstore. The challenge is to find a suitable neighborhood which is close enough to some facilities and venues with high book demand and has fewer competitors. A bookstore is good to be near a place where many well educated people visit such as near a thatre, college, school, seminary, institutes, universities and so on. Also, a neighborhood that has fewer competitors is less risky for starting a new business. In the project I'll try to come up with a formula to rank the neighborhoods when considering the amenities around it and the number of competitor.", 
            "cell_type": "markdown", 
            "metadata": {}
        }, 
        {
            "source": "## Data", 
            "cell_type": "markdown", 
            "metadata": {}
        }, 
        {
            "source": "I will extract the name of the 246 neighborhoods of Chicago from the following link in Wikipedia:  \nhttps://en.wikipedia.org/wiki/List_of_neighborhoods_in_Chicago  \nNext, I will use Geocoder Python package with a while loop to get the latitude and the longitude coordinates of all the neighborhoods of chicago. After that, I will use Foursquare API to get the information about the venues near each neighborhood.", 
            "cell_type": "markdown", 
            "metadata": {}
        }
    ], 
    "nbformat": 4, 
    "metadata": {
        "kernelspec": {
            "display_name": "Python 3.5", 
            "name": "python3", 
            "language": "python"
        }, 
        "language_info": {
            "mimetype": "text/x-python", 
            "nbconvert_exporter": "python", 
            "version": "3.5.5", 
            "name": "python", 
            "file_extension": ".py", 
            "pygments_lexer": "ipython3", 
            "codemirror_mode": {
                "version": 3, 
                "name": "ipython"
            }
        }
    }
}